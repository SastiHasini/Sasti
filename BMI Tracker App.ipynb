{
 "cells": [
  {
   "cell_type": "code",
   "execution_count": 8,
   "id": "02a93490-ceae-4561-94c9-76823a988956",
   "metadata": {},
   "outputs": [],
   "source": [
    "import pandas as pd\n",
    "import datetime"
   ]
  },
  {
   "cell_type": "code",
   "execution_count": 10,
   "id": "97248338-6930-4f84-a902-661d7ce70113",
   "metadata": {},
   "outputs": [],
   "source": [
    "try:\n",
    "    bmi_data = pd.read_csv(\"bmi_data.csv\")\n",
    "except FileNotFoundError:\n",
    "    bmi_data = pd.DataFrame(columns=[\"Date\", \"Height (cm)\", \"Weight (kg)\", \"BMI\", \"Category\"])"
   ]
  },
  {
   "cell_type": "code",
   "execution_count": 12,
   "id": "388e627d-e9a1-4756-ad75-955d6b7fc73d",
   "metadata": {},
   "outputs": [],
   "source": [
    "def calculate_bmi(weight, height):\n",
    "    return weight / ((height / 100) ** 2)"
   ]
  },
  {
   "cell_type": "code",
   "execution_count": 14,
   "id": "e0ad3fa4-0c4b-4ca2-8893-081418479f53",
   "metadata": {},
   "outputs": [],
   "source": [
    "def get_bmi_category(bmi):\n",
    "    if bmi < 18.5:\n",
    "        return \"Underweight\"\n",
    "    elif 18.5 <= bmi < 24.9:\n",
    "        return \"Normal weight\"\n",
    "    elif 25 <= bmi < 29.9:\n",
    "        return \"Overweight\"\n",
    "    else:\n",
    "        return \"Obese\""
   ]
  },
  {
   "cell_type": "code",
   "execution_count": 16,
   "id": "768e094d-2643-4e87-b942-fe2b9ee5e308",
   "metadata": {},
   "outputs": [],
   "source": [
    "def add_bmi_record():\n",
    "    try:\n",
    "        height = float(input(\"Enter your height in cm: \"))\n",
    "        weight = float(input(\"Enter your weight in kg: \"))\n",
    "        bmi = calculate_bmi(weight, height)\n",
    "        category = get_bmi_category(bmi)\n",
    "        \n",
    "        \n",
    "        new_entry = pd.DataFrame({\n",
    "            \"Date\": [datetime.date.today()],\n",
    "            \"Height (cm)\": [height],\n",
    "            \"Weight (kg)\": [weight],\n",
    "            \"BMI\": [round(bmi, 2)],\n",
    "            \"Category\": [category]\n",
    "        })\n",
    "        \n",
    "        global bmi_data\n",
    "        bmi_data = pd.concat([bmi_data, new_entry], ignore_index=True)\n",
    "        bmi_data.to_csv(\"bmi_data.csv\", index=False)\n",
    "        \n",
    "        print(f\"\\nYour BMI is: {round(bmi, 2)} ({category})\")\n",
    "    except ValueError:\n",
    "        print(\"Invalid input! Please enter numeric values for height and weight.\")\n"
   ]
  },
  {
   "cell_type": "code",
   "execution_count": 18,
   "id": "40f695e4-05fc-4c24-993f-78f236c38385",
   "metadata": {},
   "outputs": [],
   "source": [
    "\n",
    "def show_bmi_history():\n",
    "    if bmi_data.empty:\n",
    "        print(\"No records found.\")\n",
    "    else:\n",
    "        display(bmi_data)\n"
   ]
  },
  {
   "cell_type": "code",
   "execution_count": 20,
   "id": "de2a4ce7-7eba-45b7-a094-1aba36dd83c6",
   "metadata": {},
   "outputs": [],
   "source": [
    "def bmi_tracker():\n",
    "    while True:\n",
    "        print(\"\\nBMI Tracker\")\n",
    "        print(\"1. Add BMI record\")\n",
    "        print(\"2. View BMI history\")\n",
    "        print(\"3. Exit\")\n",
    "        choice = input(\"Choose an option: \")\n",
    "        \n",
    "        if choice == '1':\n",
    "            add_bmi_record()\n",
    "        elif choice == '2':\n",
    "            show_bmi_history()\n",
    "        elif choice == '3':\n",
    "            print(\"Exiting BMI Tracker. Goodbye!\")\n",
    "            break\n",
    "        else:\n",
    "            print(\"Invalid choice. Please try again.\")\n"
   ]
  },
  {
   "cell_type": "code",
   "execution_count": null,
   "id": "706eb43d-d1e8-4aa8-a299-793bb25546d9",
   "metadata": {},
   "outputs": [
    {
     "name": "stdout",
     "output_type": "stream",
     "text": [
      "\n",
      "BMI Tracker\n",
      "1. Add BMI record\n",
      "2. View BMI history\n",
      "3. Exit\n"
     ]
    },
    {
     "name": "stdin",
     "output_type": "stream",
     "text": [
      "Choose an option:  1\n",
      "Enter your height in cm:  151.5\n",
      "Enter your weight in kg:  67\n"
     ]
    },
    {
     "name": "stdout",
     "output_type": "stream",
     "text": [
      "\n",
      "Your BMI is: 29.19 (Overweight)\n",
      "\n",
      "BMI Tracker\n",
      "1. Add BMI record\n",
      "2. View BMI history\n",
      "3. Exit\n"
     ]
    },
    {
     "name": "stdin",
     "output_type": "stream",
     "text": [
      "Choose an option:  2\n"
     ]
    },
    {
     "data": {
      "text/html": [
       "<div>\n",
       "<style scoped>\n",
       "    .dataframe tbody tr th:only-of-type {\n",
       "        vertical-align: middle;\n",
       "    }\n",
       "\n",
       "    .dataframe tbody tr th {\n",
       "        vertical-align: top;\n",
       "    }\n",
       "\n",
       "    .dataframe thead th {\n",
       "        text-align: right;\n",
       "    }\n",
       "</style>\n",
       "<table border=\"1\" class=\"dataframe\">\n",
       "  <thead>\n",
       "    <tr style=\"text-align: right;\">\n",
       "      <th></th>\n",
       "      <th>Date</th>\n",
       "      <th>Height (cm)</th>\n",
       "      <th>Weight (kg)</th>\n",
       "      <th>BMI</th>\n",
       "      <th>Category</th>\n",
       "    </tr>\n",
       "  </thead>\n",
       "  <tbody>\n",
       "    <tr>\n",
       "      <th>0</th>\n",
       "      <td>2024-10-29</td>\n",
       "      <td>151.5</td>\n",
       "      <td>67.0</td>\n",
       "      <td>29.19</td>\n",
       "      <td>Overweight</td>\n",
       "    </tr>\n",
       "    <tr>\n",
       "      <th>1</th>\n",
       "      <td>2024-10-29</td>\n",
       "      <td>151.5</td>\n",
       "      <td>67.0</td>\n",
       "      <td>29.19</td>\n",
       "      <td>Overweight</td>\n",
       "    </tr>\n",
       "  </tbody>\n",
       "</table>\n",
       "</div>"
      ],
      "text/plain": [
       "         Date  Height (cm)  Weight (kg)    BMI    Category\n",
       "0  2024-10-29        151.5         67.0  29.19  Overweight\n",
       "1  2024-10-29        151.5         67.0  29.19  Overweight"
      ]
     },
     "metadata": {},
     "output_type": "display_data"
    },
    {
     "name": "stdout",
     "output_type": "stream",
     "text": [
      "\n",
      "BMI Tracker\n",
      "1. Add BMI record\n",
      "2. View BMI history\n",
      "3. Exit\n"
     ]
    }
   ],
   "source": [
    "bmi_tracker()"
   ]
  },
  {
   "cell_type": "code",
   "execution_count": null,
   "id": "de297d19-af7b-448e-9fc4-d31c90752fb1",
   "metadata": {},
   "outputs": [],
   "source": []
  }
 ],
 "metadata": {
  "kernelspec": {
   "display_name": "Python 3 (ipykernel)",
   "language": "python",
   "name": "python3"
  },
  "language_info": {
   "codemirror_mode": {
    "name": "ipython",
    "version": 3
   },
   "file_extension": ".py",
   "mimetype": "text/x-python",
   "name": "python",
   "nbconvert_exporter": "python",
   "pygments_lexer": "ipython3",
   "version": "3.12.4"
  },
  "widgets": {
   "application/vnd.jupyter.widget-state+json": {
    "state": {},
    "version_major": 2,
    "version_minor": 0
   }
  }
 },
 "nbformat": 4,
 "nbformat_minor": 5
}
