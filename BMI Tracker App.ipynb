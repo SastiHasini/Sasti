{
 "cells": [
  {
   "cell_type": "code",
   "execution_count": 15,
   "id": "002a9442-a1a9-4bcd-b3fc-c00135267958",
   "metadata": {},
   "outputs": [
    {
     "name": "stdin",
     "output_type": "stream",
     "text": [
      "Enter your weight in pounds: 170\n",
      "Enter your height in inches: 69\n"
     ]
    },
    {
     "name": "stdout",
     "output_type": "stream",
     "text": [
      "25.101869355177485\n"
     ]
    }
   ],
   "source": [
    "name=input(\"Enter your name:\")\n",
    "weight=int(input(\"Enter your weight in pounds:\"))\n",
    "height=int(input(\"Enter your height in inches:\"))\n",
    "BMI=(weight*703)/(height*height)\n",
    "print(BMI)"
   ]
  },
  {
   "cell_type": "code",
   "execution_count": null,
   "id": "d775f4ec-fc5c-465b-93c8-8b6eb2cadd36",
   "metadata": {},
   "outputs": [],
   "source": []
  },
  {
   "cell_type": "code",
   "execution_count": null,
   "id": "85967b36-0b6e-4b94-a3a3-1c601c552cd5",
   "metadata": {},
   "outputs": [],
   "source": []
  },
  {
   "cell_type": "code",
   "execution_count": null,
   "id": "5f34f7c5-8e16-4c78-a165-c9491d2d3e6a",
   "metadata": {},
   "outputs": [],
   "source": []
  },
  {
   "cell_type": "code",
   "execution_count": null,
   "id": "033629d4-1a9a-40de-9139-88077592459c",
   "metadata": {},
   "outputs": [],
   "source": []
  },
  {
   "cell_type": "code",
   "execution_count": null,
   "id": "8868c15f-36d0-4a11-b56b-eff45e241083",
   "metadata": {},
   "outputs": [],
   "source": [
    "print(weight)"
   ]
  },
  {
   "cell_type": "code",
   "execution_count": null,
   "id": "f7ab05fb-b47b-4af9-8ce7-c7324aee0b38",
   "metadata": {},
   "outputs": [],
   "source": [
    "Under 18.5->Underweight->Minimal\n",
    "18.5-24.9->Normal Weight->Minimal\n",
    "25-29.9->Overweight->Increased\n",
    "30-34.9->Obese->High\n",
    "35-39.9->Severely Obese->Very High\n",
    "40 and over->Morbidly Obese->Extremely High"
   ]
  },
  {
   "cell_type": "code",
   "execution_count": 21,
   "id": "a93d1fe8-f87a-4e0a-8c95-1e108ac3a111",
   "metadata": {},
   "outputs": [
    {
     "ename": "SyntaxError",
     "evalue": "incomplete input (2754137454.py, line 2)",
     "output_type": "error",
     "traceback": [
      "\u001b[1;36m  Cell \u001b[1;32mIn[21], line 2\u001b[1;36m\u001b[0m\n\u001b[1;33m    if(BMI<18.5):\u001b[0m\n\u001b[1;37m                 ^\u001b[0m\n\u001b[1;31mSyntaxError\u001b[0m\u001b[1;31m:\u001b[0m incomplete input\n"
     ]
    }
   ],
   "source": [
    "if BMI>0:\n",
    "    if(BMI<18.5):\n",
    "        print(name+\",YOU ARE UNDERWEIGHT\")\n",
    "    elif(BMI<=24.9):\n",
    "        print(name+\",YOU ARE NORMAL WEIGHT\")\n",
    "    elif(BMI<29.9):\n",
    "        print(name+\",YOU ARE OVERWEIGHT\")\n",
    "    elif(BMI<34.9):\n",
    "        print(name+\",YOU ARE OBESE\")\n",
    "    elif(BMI<39.9):\n",
    "        print(name+\",YOU ARE SEVERELY OBESE.\")\n",
    "    else:\n",
    "        print(name+\",YOU ARE MORBIDLY OBESE\")\n",
    "else:\n",
    "    print(\"Enter valid input\")\n",
    "              \n",
    "    "
   ]
  },
  {
   "cell_type": "code",
   "execution_count": null,
   "id": "bdee12b6-e0c7-4f2e-8678-c16956cc193a",
   "metadata": {},
   "outputs": [],
   "source": []
  }
 ],
 "metadata": {
  "kernelspec": {
   "display_name": "Python 3 (ipykernel)",
   "language": "python",
   "name": "python3"
  },
  "language_info": {
   "codemirror_mode": {
    "name": "ipython",
    "version": 3
   },
   "file_extension": ".py",
   "mimetype": "text/x-python",
   "name": "python",
   "nbconvert_exporter": "python",
   "pygments_lexer": "ipython3",
   "version": "3.12.4"
  },
  "widgets": {
   "application/vnd.jupyter.widget-state+json": {
    "state": {},
    "version_major": 2,
    "version_minor": 0
   }
  }
 },
 "nbformat": 4,
 "nbformat_minor": 5
}
